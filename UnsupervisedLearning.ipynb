{
 "cells": [
  {
   "cell_type": "code",
   "execution_count": null,
   "id": "04a6a1e0-003d-4c15-a928-173eb56d5a19",
   "metadata": {
    "colab": {
     "base_uri": "https://localhost:8080/"
    },
    "id": "gJvLITexNRah",
    "outputId": "9661629a-1e21-45a8-b90f-519fd1964180"
   },
   "outputs": [
    {
     "name": "stdout",
     "output_type": "stream",
     "text": [
      "Mounted at /content/drive\n"
     ]
    }
   ],
   "source": [
    "import torch\n",
    "import torch.nn as nn\n",
    "import torch.optim as optim\n",
    "import torch.nn.functional as F\n",
    "import torchvision.models as models\n",
    "\n",
    "import torchvision\n",
    "import torchvision.transforms as tr\n",
    "from torchvision import transforms\n",
    "from torch.utils.data import DataLoader, Dataset\n",
    "from torchvision.utils import make_grid\n",
    "from tqdm import tqdm\n",
    "\n",
    "import imageio\n",
    "import numpy as np\n",
    "import matplotlib.pyplot as plt\n",
    "from PIL import Image\n",
    "import cv2\n",
    "\n",
    "import copy\n",
    "import urllib.request\n",
    "\n",
    "from google.colab import drive\n",
    "drive.mount(\"/content/drive\")"
   ]
  },
  {
   "cell_type": "code",
   "execution_count": null,
   "id": "21a80669-3ab4-450d-9563-e03f90c14e59",
   "metadata": {
    "id": "gr7z0NLXMLgc"
   },
   "outputs": [],
   "source": [
    "MODEL_SAVE_PATH = \"/content/drive/MyDrive/models/torch_basic_study\""
   ]
  },
  {
   "cell_type": "markdown",
   "id": "221eb116-fe13-4eaf-842d-473f0f27eeb1",
   "metadata": {
    "id": "gLE-3WXymTm5",
    "tags": []
   },
   "source": [
    "# Unsupervised Learning"
   ]
  },
  {
   "cell_type": "markdown",
   "id": "de797546-0eb2-4ae4-b7ed-4755ff842087",
   "metadata": {
    "id": "r4AkGNm-lYdJ"
   },
   "source": [
    "## Generative Adversarial Networl"
   ]
  },
  {
   "cell_type": "code",
   "execution_count": null,
   "id": "fb2c1962-cb2b-4869-8d2c-f9c676ecdea3",
   "metadata": {
    "id": "-8yQ6R9_VSYP"
   },
   "outputs": [],
   "source": [
    "from torchvision.datasets import FashionMNIST"
   ]
  },
  {
   "cell_type": "code",
   "execution_count": null,
   "id": "b8bd09a8-4bcf-485b-af20-c785cfe47882",
   "metadata": {
    "colab": {
     "base_uri": "https://localhost:8080/",
     "height": 457,
     "referenced_widgets": [
      "49e096707bf44b9faafdb07c5f57b86c",
      "dfc7436ffd9540698c8e4dfdee0cd658",
      "71364544675d40c6a4ff84f7921484f5",
      "3ae91ee3635e47e0a4fbb533c121cc07",
      "7fa96157469c42e094b934ab2fc9467b",
      "111cb976fbf14c86ba3c097c4bf05a91",
      "2b4ab3ddee6542f781c265a3777778bc",
      "9fda98b05a2f48eda2ec6c6bb915fe4a",
      "4f8834b93ab942d0b66c29627242f453",
      "5969a01bdc3641b7b9873f84f3566879",
      "e5a5d53ee29a4005b2708e7e8fe85813",
      "591c9754bba64ce590117869b8f0a396",
      "8d4bdc38ab7943109a110d1e43397394",
      "7adfdc3c1950411181da368fc1627c90",
      "1d4100d4b9a84f9aa255c7060b891aa3",
      "de0169023eb546b09180258c062438a5",
      "c53e16930103440aa94522bf7e28403f",
      "cae63310ef834f75a4954ad230229a49",
      "e123a7c876254e04aa23ad64293cf22b",
      "7e881582c22442e78203818fc37c0d6f",
      "7c4f504afa9a4097be96a64df9894473",
      "a485c4f3f0cb4cf5959363a57b2cd061",
      "53d1ce87b1c245a4af06421ae3e8b653",
      "68290401619f455c98f3f9cf980e0ef3",
      "ffb1fa9efe714ec9b6cc62232e735aa4",
      "6062431d14514d098ca5885fcf2b3d68",
      "85de595b077548d78adc805a0907c627",
      "7c11503e98e648dfbb1722a5b5fb54bd",
      "64242f91f29c4ca2842121bb12fa4121",
      "6e91132df28f46d09ea3b9317d9d25d6",
      "dfd4e48ab7fb497a96fb1d088ca1c6bd",
      "d716c158e61b4153a102f7cfd8411fbd",
      "97dedede21824d73ac966519198019bb",
      "78d5cab5e63844568dd1fc95e141293c",
      "80b34816d0c64dfc8d716a25d027efa6",
      "fd42e052f29b4925a11b2bfb09686753",
      "362e21cbc1974ff582f2dc95fe500479",
      "be7ba4311a8c40abb6c3a40cd1534f06",
      "7889d2f5b55641ed9bc7ef7ee33a3892",
      "2ceba62c850748c4913022c1236c80fc",
      "566b90ad76ba4346ba7e039a2fe80e44",
      "1844ef72b5d44d32b3339e846bb998ea",
      "f9de5110a10f425787f5462d273e2fe3",
      "37f1fe00d6704f7faf76b35402321e74"
     ]
    },
    "id": "OD2Tn_hDUELF",
    "outputId": "db0affc6-5236-4f0e-940e-9a3c6af80082"
   },
   "outputs": [
    {
     "name": "stdout",
     "output_type": "stream",
     "text": [
      "Downloading http://fashion-mnist.s3-website.eu-central-1.amazonaws.com/train-images-idx3-ubyte.gz\n",
      "Downloading http://fashion-mnist.s3-website.eu-central-1.amazonaws.com/train-images-idx3-ubyte.gz to ./data/FashionMNIST/raw/train-images-idx3-ubyte.gz\n"
     ]
    },
    {
     "data": {
      "application/vnd.jupyter.widget-view+json": {
       "model_id": "49e096707bf44b9faafdb07c5f57b86c",
       "version_major": 2,
       "version_minor": 0
      },
      "text/plain": [
       "  0%|          | 0/26421880 [00:00<?, ?it/s]"
      ]
     },
     "metadata": {},
     "output_type": "display_data"
    },
    {
     "name": "stdout",
     "output_type": "stream",
     "text": [
      "Extracting ./data/FashionMNIST/raw/train-images-idx3-ubyte.gz to ./data/FashionMNIST/raw\n",
      "\n",
      "Downloading http://fashion-mnist.s3-website.eu-central-1.amazonaws.com/train-labels-idx1-ubyte.gz\n",
      "Downloading http://fashion-mnist.s3-website.eu-central-1.amazonaws.com/train-labels-idx1-ubyte.gz to ./data/FashionMNIST/raw/train-labels-idx1-ubyte.gz\n"
     ]
    },
    {
     "data": {
      "application/vnd.jupyter.widget-view+json": {
       "model_id": "591c9754bba64ce590117869b8f0a396",
       "version_major": 2,
       "version_minor": 0
      },
      "text/plain": [
       "  0%|          | 0/29515 [00:00<?, ?it/s]"
      ]
     },
     "metadata": {},
     "output_type": "display_data"
    },
    {
     "name": "stdout",
     "output_type": "stream",
     "text": [
      "Extracting ./data/FashionMNIST/raw/train-labels-idx1-ubyte.gz to ./data/FashionMNIST/raw\n",
      "\n",
      "Downloading http://fashion-mnist.s3-website.eu-central-1.amazonaws.com/t10k-images-idx3-ubyte.gz\n",
      "Downloading http://fashion-mnist.s3-website.eu-central-1.amazonaws.com/t10k-images-idx3-ubyte.gz to ./data/FashionMNIST/raw/t10k-images-idx3-ubyte.gz\n"
     ]
    },
    {
     "data": {
      "application/vnd.jupyter.widget-view+json": {
       "model_id": "53d1ce87b1c245a4af06421ae3e8b653",
       "version_major": 2,
       "version_minor": 0
      },
      "text/plain": [
       "  0%|          | 0/4422102 [00:00<?, ?it/s]"
      ]
     },
     "metadata": {},
     "output_type": "display_data"
    },
    {
     "name": "stdout",
     "output_type": "stream",
     "text": [
      "Extracting ./data/FashionMNIST/raw/t10k-images-idx3-ubyte.gz to ./data/FashionMNIST/raw\n",
      "\n",
      "Downloading http://fashion-mnist.s3-website.eu-central-1.amazonaws.com/t10k-labels-idx1-ubyte.gz\n",
      "Downloading http://fashion-mnist.s3-website.eu-central-1.amazonaws.com/t10k-labels-idx1-ubyte.gz to ./data/FashionMNIST/raw/t10k-labels-idx1-ubyte.gz\n"
     ]
    },
    {
     "data": {
      "application/vnd.jupyter.widget-view+json": {
       "model_id": "78d5cab5e63844568dd1fc95e141293c",
       "version_major": 2,
       "version_minor": 0
      },
      "text/plain": [
       "  0%|          | 0/5148 [00:00<?, ?it/s]"
      ]
     },
     "metadata": {},
     "output_type": "display_data"
    },
    {
     "name": "stdout",
     "output_type": "stream",
     "text": [
      "Extracting ./data/FashionMNIST/raw/t10k-labels-idx1-ubyte.gz to ./data/FashionMNIST/raw\n",
      "\n",
      "Using cuda...\n"
     ]
    }
   ],
   "source": [
    "transform = transforms.Compose([transforms.ToTensor(), transforms.Normalize((0.5,),(0.5,))])\n",
    "trainset = FashionMNIST(root=\"./data/\", train=True, download=True, transform=transform)\n",
    "trainloader = DataLoader(trainset, batch_size=100, shuffle=True)\n",
    "device = torch.device(\"cuda\" if torch.cuda.is_available() else \"cpu\")\n",
    "print(f\"Using {device}...\")"
   ]
  },
  {
   "cell_type": "markdown",
   "id": "723a4800-3bc7-471d-8b72-cc990da13601",
   "metadata": {
    "id": "SoiyLG2oiRxS"
   },
   "source": [
    "Linear Version"
   ]
  },
  {
   "cell_type": "code",
   "execution_count": null,
   "id": "c9ee5c2b-390b-41ab-88eb-bb3128e6ffd1",
   "metadata": {
    "id": "T3KIfJclUrn-"
   },
   "outputs": [],
   "source": [
    "class Generator(nn.Module):\n",
    "  def __init__(self):\n",
    "    super(Generator, self).__init__()\n",
    "    self.n_features = 128\n",
    "    self.n_out = 784\n",
    "    self.linear = nn.Sequential(\n",
    "        nn.Linear(self.n_features, 256),\n",
    "        nn.LeakyReLU(0.2),\n",
    "        nn.Linear(256, 512),\n",
    "        nn.LeakyReLU(0.2),\n",
    "        nn.Linear(512, 1024),\n",
    "        nn.LeakyReLU(0.2),\n",
    "        nn.Linear(1024, self.n_out),\n",
    "        nn.Tanh())\n",
    "  \n",
    "  def forward(self, x):\n",
    "    x = self.linear(x)\n",
    "    x = x.view(-1, 1, 28, 28)\n",
    "    return x\n",
    "\n",
    "class Discriminator(nn.Module):\n",
    "  def __init__(self):\n",
    "    super(Discriminator, self).__init__()\n",
    "    self.n_in = 784\n",
    "    self.n_out = 1\n",
    "    self.linear = nn.Sequential(\n",
    "        nn.Linear(self.n_in, 1024),\n",
    "        nn.LeakyReLU(0.2),\n",
    "        nn.Dropout(0.3),\n",
    "        nn.Linear(1024, 512),\n",
    "        nn.LeakyReLU(0.2),\n",
    "        nn.Dropout(0.3),\n",
    "        nn.Linear(512, 256),\n",
    "        nn.LeakyReLU(0.2),\n",
    "        nn.Dropout(0.3),\n",
    "        nn.Linear(256, self.n_out),\n",
    "        nn.Sigmoid())\n",
    "\n",
    "  def forward(self, x):\n",
    "    x = x.view(-1, 784)\n",
    "    x = self.linear(x)\n",
    "    return x"
   ]
  },
  {
   "cell_type": "markdown",
   "id": "eb9e474b-5371-4a1e-af6f-ecb1a5139e87",
   "metadata": {
    "id": "E7wqM9pHiUNy"
   },
   "source": [
    "Convolution Version"
   ]
  },
  {
   "cell_type": "code",
   "execution_count": null,
   "id": "e1a46ada-fb3a-4c43-a484-c35464337af6",
   "metadata": {
    "id": "384A9-rUiUgx"
   },
   "outputs": [],
   "source": [
    "class Generator(nn.Module):\n",
    "  def __init__(self):\n",
    "    super(Generator, self).__init__()\n",
    "    self.n_features = 128\n",
    "    self.conv = nn.Sequential(\n",
    "        nn.ConvTranspose2d(self.n_features, 256, 3, 1, bias=True), nn.ReLU(True),\n",
    "        nn.ConvTranspose2d(256, 128, 3, 2, bias=True), nn.ReLU(True),\n",
    "        nn.ConvTranspose2d(128, 64, 3, 2, bias=True), nn.ReLU(True),\n",
    "        nn.ConvTranspose2d(64, 1, 2, 2, 1, bias=True), nn.Tanh())\n",
    "  \n",
    "  def forward(self, x):\n",
    "    x = x.view(-1, self.n_features, 1, 1)\n",
    "    x = self.conv(x)\n",
    "    return x\n",
    "\n",
    "class Discriminator(nn.Module):\n",
    "  def __init__(self):\n",
    "    super(Discriminator, self).__init__()\n",
    "    self.conv = nn.Sequential(\n",
    "        nn.Conv2d(1, 128, 3, 2, 1, bias=True), nn.LeakyReLU(0.2),\n",
    "        nn.Conv2d(128, 256, 3, 2, 1, bias=True), nn.LeakyReLU(0.2),\n",
    "        nn.Conv2d(256, 256, 3, 2, 1, bias=True), nn.LeakyReLU(0.2),\n",
    "        nn.Conv2d(256, 1, 3, 2, bias=True), nn.Sigmoid())\n",
    "\n",
    "  def forward(self, x):\n",
    "    x = self.conv(x)\n",
    "    x = x.view(-1, 1)\n",
    "    return x"
   ]
  },
  {
   "cell_type": "code",
   "execution_count": null,
   "id": "ef52479c-65d8-4a77-89e7-d8646a626b5e",
   "metadata": {
    "id": "gAdYKaV3WdK-"
   },
   "outputs": [],
   "source": [
    "generator = Generator().to(device)\n",
    "discriminator = Discriminator().to(device)\n",
    "\n",
    "g_optim = optim.Adam(generator.parameters(), lr=2e-4)\n",
    "d_optim = optim.Adam(discriminator.parameters(), lr=2e-4)\n",
    "g_losses = []\n",
    "d_losses = []\n",
    "images = []\n",
    "criterion = nn.BCELoss()"
   ]
  },
  {
   "cell_type": "code",
   "execution_count": null,
   "id": "1e21ceb1-26ca-41c0-9ca7-ef065ed859bc",
   "metadata": {
    "id": "EW51GsKyW_Ns"
   },
   "outputs": [],
   "source": [
    "def noise(n, n_features=128):\n",
    "  data = torch.randn(n, n_features)\n",
    "  return data.to(device)\n",
    "\n",
    "def label_ones(size):\n",
    "  data = torch.ones(size, 1)\n",
    "  return data.to(device)\n",
    "\n",
    "def label_zeros(size):\n",
    "  data = torch.zeros(size, 1)\n",
    "  return data.to(device)"
   ]
  },
  {
   "cell_type": "code",
   "execution_count": null,
   "id": "b7a236bc-b2ba-4800-835d-8531b012a1b9",
   "metadata": {
    "id": "M4xEGXvjXKrc"
   },
   "outputs": [],
   "source": [
    "def train_discriminator(optimizer, real_data, fake_data):\n",
    "  n = real_data.size(0)\n",
    "  optimizer.zero_grad()\n",
    "  prediction_real = discriminator(real_data)\n",
    "  d_loss = criterion(prediction_real, label_ones(n))\n",
    "  prediction_fake = discriminator(fake_data)\n",
    "  g_loss = criterion(prediction_fake, label_zeros(n))\n",
    "  loss = d_loss + g_loss\n",
    "  loss.backward()\n",
    "  optimizer.step()\n",
    "  return loss.item()\n",
    "\n",
    "def train_generator(optimizer, fake_data):\n",
    "  n = fake_data.size(0)\n",
    "  optimizer.zero_grad()\n",
    "  prediction = discriminator(fake_data)\n",
    "  loss = criterion(prediction, label_ones(n))\n",
    "  loss.backward()\n",
    "  optimizer.step()\n",
    "  return loss.item()"
   ]
  },
  {
   "cell_type": "code",
   "execution_count": null,
   "id": "d1bb90eb-c672-44ff-9cf2-9921fd5c9761",
   "metadata": {
    "colab": {
     "background_save": true,
     "base_uri": "https://localhost:8080/"
    },
    "id": "RAhN-zQ-YebF",
    "outputId": "f26bd9c6-eb4c-408c-9ec4-678c39ab0745"
   },
   "outputs": [
    {
     "name": "stdout",
     "output_type": "stream",
     "text": [
      "Epoch 0: g_loss:7.943456185559432 d_loss:0.055685283230101655\n",
      "Epoch 10: g_loss:4.948457410732905 d_loss:0.19725938915275038\n",
      "Epoch 20: g_loss:3.50902020017306 d_loss:0.3860239720592896\n",
      "Epoch 30: g_loss:2.902596804499626 d_loss:0.4761539975802104\n",
      "Epoch 40: g_loss:2.729328035314878 d_loss:0.5194540014863014\n",
      "Epoch 50: g_loss:2.6966995127995808 d_loss:0.5193100975950559\n",
      "Epoch 60: g_loss:2.702931057016055 d_loss:0.5142606012026469\n"
     ]
    }
   ],
   "source": [
    "test_noise = noise(64)\n",
    "l = len(trainloader)\n",
    "for epoch in range(151):\n",
    "  g_loss = 0.0\n",
    "  d_loss = 0.0\n",
    "  for data in trainloader:\n",
    "    imgs, _ = data\n",
    "    n = len(imgs)\n",
    "    fake_data = generator(noise(n)).detach()\n",
    "    real_data = imgs.to(device)\n",
    "    d_loss += train_discriminator(d_optim, real_data, fake_data)\n",
    "    fake_data = generator(noise(n))\n",
    "    g_loss += train_generator(g_optim, fake_data)\n",
    "\n",
    "  img = generator(test_noise).detach().cpu()\n",
    "  img = make_grid(img)\n",
    "  images.append(img)\n",
    "  g_losses.append(g_loss/l)\n",
    "  d_losses.append(d_loss/l)\n",
    "  if epoch % 10 == 0:\n",
    "    print(f\"Epoch {epoch}: g_loss:{g_loss/l} d_loss:{d_loss/l}\")"
   ]
  },
  {
   "cell_type": "code",
   "execution_count": null,
   "id": "001be8bb-1def-487f-96ca-0712b23ded95",
   "metadata": {
    "id": "HvL_tmEMaH7d"
   },
   "outputs": [],
   "source": [
    "MODEL_SAVE_PATH = \"/content/drive/MyDrive/models/torch_basic_study\"\n",
    "GENERATOR_SAVE_PATH = f\"{MODEL_SAVE_PATH}/generator.pt\"\n",
    "DISCRIMINATOR_SAVE_PATH = f\"{MODEL_SAVE_PATH}/discriminator.pt\"\n",
    "torch.save(generator.state_dict(), GENERATOR_SAVE_PATH)\n",
    "torch.save(discriminator.state_dict(), DISCRIMINATOR_SAVE_PATH)"
   ]
  },
  {
   "cell_type": "code",
   "execution_count": null,
   "id": "7ae3fd6e-361f-4998-8db2-d9985d334a01",
   "metadata": {
    "id": "A6Qh4nsZareL"
   },
   "outputs": [],
   "source": [
    "to_image = transforms.ToPILImage()\n",
    "imgs = [np.array(to_image(i)) for i in images]\n",
    "imageio.mimsave(\"fasion_items.gif\", imgs)"
   ]
  },
  {
   "cell_type": "code",
   "execution_count": null,
   "id": "f0165641-99b6-48a1-9463-2344a1863cfd",
   "metadata": {
    "id": "XNcUdhgtbKr9"
   },
   "outputs": [],
   "source": [
    "plt.figure(figsize=(20, 10))\n",
    "plt.plot(g_losses)\n",
    "plt.plot(d_losses)\n",
    "plt.legend([\"Generator\", \"Discriminator\"])\n",
    "plt.title(\"Loss\")\n",
    "plt.savefig(\"gan_loss.png\")"
   ]
  },
  {
   "cell_type": "markdown",
   "id": "c08d6944-8a67-42ab-b75b-4ec3cdce76e5",
   "metadata": {
    "id": "yB_2nsx1lli1"
   },
   "source": [
    "## Image Style Transfer"
   ]
  },
  {
   "cell_type": "code",
   "execution_count": null,
   "id": "2b29e5d5-d9ac-45bb-a510-2dfb9cb9874e",
   "metadata": {
    "colab": {
     "base_uri": "https://localhost:8080/"
    },
    "id": "X1_NLx4zLdzX",
    "outputId": "cdccdb0e-2766-4b99-ff5a-be9579461884"
   },
   "outputs": [
    {
     "data": {
      "text/plain": [
       "('/content/content_image.jpg', <http.client.HTTPMessage at 0x7f2d4f6a2b10>)"
      ]
     },
     "execution_count": 44,
     "metadata": {},
     "output_type": "execute_result"
    }
   ],
   "source": [
    "STYLE_IMAGE_URL = \"https://www.artinsight.co.kr/data/tmp/1912/20191210235617_eostfpur.jpg\"\n",
    "CONTENT_IMAGE_URL = \"https://img.insight.co.kr/static/2019/04/10/700/m32ewfrrf7y6b20047xb.jpg\"\n",
    "\n",
    "urllib.request.urlretrieve(STYLE_IMAGE_URL, \"/content/style_image.jpg\")\n",
    "urllib.request.urlretrieve(CONTENT_IMAGE_URL, \"/content/content_image.jpg\")"
   ]
  },
  {
   "cell_type": "code",
   "execution_count": null,
   "id": "3de14095-88a2-4222-86f6-7879e5d7fd48",
   "metadata": {
    "colab": {
     "base_uri": "https://localhost:8080/",
     "height": 66,
     "referenced_widgets": [
      "19e134e85fa240c48fab1dbc4fb5f29e",
      "0ba39a91b283407f952e9cee0974fc02",
      "4102f9780dd44bc68d866fdce466c231",
      "a783b297a14e431ea31baaa5ec19829d",
      "092acb03ab964ecab6f23c956484e88d",
      "9d60e7d02ea54412b6d9560241d999c2",
      "85a7193db03d4c0eaeea937ac88c4a12",
      "4826898f86cc41f7b3a86868206add87",
      "4def260c7d6241a6aa35c75eae729d46",
      "6a0cd04b602e47b29b2c8e792c7a2d45",
      "fff2aa8aba0f4362a64b7ab053572f9e"
     ]
    },
    "id": "_YlwcuCBbb6k",
    "outputId": "4bb734da-c937-41f2-ca2b-5ddec612aed5"
   },
   "outputs": [
    {
     "name": "stderr",
     "output_type": "stream",
     "text": [
      "Downloading: \"https://download.pytorch.org/models/vgg19-dcbb9e9d.pth\" to /root/.cache/torch/hub/checkpoints/vgg19-dcbb9e9d.pth\n"
     ]
    },
    {
     "data": {
      "application/vnd.jupyter.widget-view+json": {
       "model_id": "19e134e85fa240c48fab1dbc4fb5f29e",
       "version_major": 2,
       "version_minor": 0
      },
      "text/plain": [
       "  0%|          | 0.00/548M [00:00<?, ?B/s]"
      ]
     },
     "metadata": {},
     "output_type": "display_data"
    }
   ],
   "source": [
    "device = torch.device(\"cuda:0\" if torch.cuda.is_available() else \"cpu\")\n",
    "cnn = models.vgg19(pretrained=True).features.to(device).eval()"
   ]
  },
  {
   "cell_type": "code",
   "execution_count": null,
   "id": "1402c609-be90-4436-b930-43cf1d70fff4",
   "metadata": {
    "id": "UEx_1aOesPnQ"
   },
   "outputs": [],
   "source": [
    "def gram_matrix(input):\n",
    "  a,b,c,d = input.size()\n",
    "  features = input.view(a*b, c*d)\n",
    "  G = torch.mm(features, features.t())\n",
    "  return G.div(a*b*c*d)"
   ]
  },
  {
   "cell_type": "code",
   "execution_count": null,
   "id": "0c86c884-06c9-47f1-b5cb-7a87472b0c28",
   "metadata": {
    "id": "46so7pl_sPk0"
   },
   "outputs": [],
   "source": [
    "class ContentLoss(nn.Module):\n",
    "  def __init__(self, target):\n",
    "    super(ContentLoss, self).__init__()\n",
    "    self.target = target.detach()\n",
    "\n",
    "  def forward(self, input):\n",
    "    self.loss = F.mse_loss(input, self.target)\n",
    "    return input\n",
    "\n",
    "class StyleLoss(nn.Module):\n",
    "  def __init__(self, target_feature):\n",
    "    super(StyleLoss, self).__init__()\n",
    "    self.target = gram_matrix(target_feature).detach()\n",
    "  \n",
    "  def forward(self, input):\n",
    "    G = gram_matrix(input)\n",
    "    self.loss = F.mse_loss(G, self.target)\n",
    "    return input\n",
    "\n",
    "class Normalization(nn.Module):\n",
    "  def __init__(self, mean, std):\n",
    "    super(Normalization, self).__init__()\n",
    "    self.mean = mean.view(-1, 1, 1)\n",
    "    self.std = std.view(-1, 1, 1)\n",
    "  \n",
    "  def forward(self, img):\n",
    "    return (img - self.mean) / self.std"
   ]
  },
  {
   "cell_type": "code",
   "execution_count": null,
   "id": "95e23b87-9d2c-421e-b861-2355039c136f",
   "metadata": {
    "id": "SgRM62EVsPig"
   },
   "outputs": [],
   "source": [
    "def get_style_model_and_losses(cnn, style_img, content_img):\n",
    "  content_layers = [\"conv_4\"]\n",
    "  style_layers = [\"conv_1\", \"conv_2\", \"conv_3\", \"conv_4\", \"conv_5\"]\n",
    "  normalization_mean = torch.tensor([0.485, 0.456, 0.406]).to(device)\n",
    "  normalization_std = torch.tensor([0.229, 0.224, 0.225]).to(device)\n",
    "  normalization = Normalization(normalization_mean, normalization_std).to(device)\n",
    "  content_losses = []\n",
    "  style_losses = []\n",
    "  model = nn.Sequential(normalization)\n",
    "  i = 0\n",
    "  for layer in cnn.children():\n",
    "    if isinstance(layer, nn.Conv2d):\n",
    "      i += 1\n",
    "      name = f\"conv_{i}\"\n",
    "    elif isinstance(layer, nn.ReLU):\n",
    "      name = f\"relu_{i}\"\n",
    "      layer = nn.ReLU(inplace=False)\n",
    "    elif isinstance(layer, nn.MaxPool2d):\n",
    "      name = f\"maxpool_{i}\"\n",
    "    elif isinstance(layer, nn.BatchNorm2d):\n",
    "      name = f\"bn_{i}\"\n",
    "    else:\n",
    "      raise RuntimeError(f\"Unrecognized layer : {layer.__class__.__name__}\")\n",
    "\n",
    "    model.add_module(name, layer)\n",
    "    if name in content_layers:\n",
    "      target = model(content_img)\n",
    "      content_loss = ContentLoss(target)\n",
    "      model.add_module(f\"content_loss_{i}\", content_loss)\n",
    "      content_losses.append(content_loss)\n",
    "    if name in style_layers:\n",
    "      target_feature = model(style_img)\n",
    "      style_loss = StyleLoss(target_feature)\n",
    "      model.add_module(f\"style_loss_{i}\", style_loss)\n",
    "      style_losses.append(style_loss)\n",
    "\n",
    "  for i in range(len(model) - 1, -1, -1):\n",
    "    if isinstance(model[i], ContentLoss) or isinstance(model[i], StyleLoss):\n",
    "      break\n",
    "  model = model[:(i+1)]\n",
    "  return model, style_losses, content_losses  "
   ]
  },
  {
   "cell_type": "code",
   "execution_count": null,
   "id": "e07614a9-80d2-4860-ad9d-f42f078dfb33",
   "metadata": {
    "id": "rrS85ttcuMT3"
   },
   "outputs": [],
   "source": [
    "def run_style_transfer(cnn, content_img, style_img, num_steps=400, style_weight=100000, content_weight=1):\n",
    "  input_img = content_img.clone().detach().requires_grad_(True)\n",
    "  model, style_losses, content_losses = get_style_model_and_losses(cnn, style_img, content_img)\n",
    "  optimizer = optim.LBFGS([input_img])\n",
    "  iteration = [0]\n",
    "  while iteration[0] <= num_steps:\n",
    "    def closure():\n",
    "      input_img.data.clamp_(0, 1)\n",
    "      optimizer.zero_grad()\n",
    "      model(input_img)\n",
    "      style_score = 0\n",
    "      content_score = 0\n",
    "      for sl in style_losses:\n",
    "        style_score += sl.loss\n",
    "      for cl in content_losses:\n",
    "        content_score += cl.loss\n",
    "      loss = style_weight*style_score + content_weight*content_score\n",
    "      loss.backward()\n",
    "      iteration[0] += 1\n",
    "      if iteration[0] % 50 == 0:\n",
    "        print(f\"Iteration {iteration[0]}: Style Loss : {style_score.item()} Content Loss : {content_score.item()}\")\n",
    "      return style_score + content_score\n",
    "    optimizer.step(closure)\n",
    "  return input_img.data.clamp(0, 1)"
   ]
  },
  {
   "cell_type": "code",
   "execution_count": null,
   "id": "704e170a-6f9d-464c-b822-3558fb441bc7",
   "metadata": {
    "id": "w7afnBW4uMRb"
   },
   "outputs": [],
   "source": [
    "def image_loader(img_path):\n",
    "  loader = transforms.Compose([transforms.Resize((256, 256)), transforms.ToTensor()])\n",
    "  image = Image.open(img_path).convert(\"RGB\")\n",
    "  image = loader(image).unsqueeze(0)\n",
    "  return image.to(device)\n",
    "\n",
    "STYLE_IMAGE_PATH = \"/content/style_image.jpg\"\n",
    "CONTENT_IMAGE_PATH = \"/content/content_image.jpg\"\n",
    "style_img = image_loader(STYLE_IMAGE_PATH)\n",
    "content_img = image_loader(CONTENT_IMAGE_PATH)"
   ]
  },
  {
   "cell_type": "code",
   "execution_count": null,
   "id": "321e8294-07a5-4a80-96c4-b64d702b03a8",
   "metadata": {
    "colab": {
     "base_uri": "https://localhost:8080/"
    },
    "id": "-Vs51vxDuMPI",
    "outputId": "2552ea05-c35a-444b-f637-02616d031bbf"
   },
   "outputs": [
    {
     "name": "stdout",
     "output_type": "stream",
     "text": [
      "Iteration 50: Style Loss : 0.00030348089057952166 Content Loss : 34.99315643310547\n",
      "Iteration 100: Style Loss : 8.971006900537759e-05 Content Loss : 25.032758712768555\n",
      "Iteration 150: Style Loss : 3.5414050216786563e-05 Content Loss : 19.65741729736328\n",
      "Iteration 200: Style Loss : 2.4822778868838213e-05 Content Loss : 16.634628295898438\n",
      "Iteration 250: Style Loss : 2.206280805694405e-05 Content Loss : 15.236971855163574\n",
      "Iteration 300: Style Loss : 1.9387214706512168e-05 Content Loss : 14.687284469604492\n"
     ]
    }
   ],
   "source": [
    "output = run_style_transfer(cnn, content_img, style_img, num_steps=300)"
   ]
  },
  {
   "cell_type": "code",
   "execution_count": null,
   "id": "f40ed7c3-ef1a-447d-824c-3f9cb8ed5f82",
   "metadata": {
    "colab": {
     "base_uri": "https://localhost:8080/",
     "height": 251
    },
    "id": "_ArmUvNn1C8m",
    "outputId": "3748f3a1-ad8e-48ca-c7df-2fb7477169e2"
   },
   "outputs": [
    {
     "data": {
      "image/png": "[encoded data removed]",
      "text/plain": [
       "<Figure size 360x360 with 1 Axes>"
      ]
     },
     "metadata": {
      "needs_background": "light"
     },
     "output_type": "display_data"
    },
    {
     "data": {
      "text/plain": [
       "False"
      ]
     },
     "execution_count": 59,
     "metadata": {},
     "output_type": "execute_result"
    }
   ],
   "source": [
    "def imshow(image, origin_size, title):\n",
    "  unloader = transforms.Compose([transforms.Resize(origin_size), transforms.ToPILImage()])\n",
    "  image = unloader(image.squeeze(0).cpu())\n",
    "  plt.figure(figsize=(5,5))\n",
    "  plt.imshow(image)\n",
    "  plt.title(title)\n",
    "  plt.axis(\"off\")\n",
    "  plt.show()\n",
    "origin_image = cv2.imread(\"/content/content_image.jpg\")\n",
    "imshow(output, origin_image.shape[:2], title=\"Output Image\")"
   ]
  },
  {
   "cell_type": "markdown",
   "id": "69a3440b-cdcf-4548-b382-5cb5c6696a5e",
   "metadata": {
    "id": "h8KGQEUS3JUs",
    "tags": []
   },
   "source": [
    "## Deep K-Means Algorithm"
   ]
  },
  {
   "cell_type": "code",
   "execution_count": null,
   "id": "7aea8e4e-d81c-4d00-88f3-c22f7477ac62",
   "metadata": {
    "id": "-misnTID3Y0U"
   },
   "outputs": [],
   "source": [
    "from scipy.optimize import linear_sum_assignment as linear_assignment"
   ]
  },
  {
   "cell_type": "code",
   "execution_count": null,
   "id": "d81f9d07-5dac-4fe6-9ef8-4addef869b20",
   "metadata": {
    "id": "89dG5C3KVdTf"
   },
   "outputs": [],
   "source": [
    "batch_size = 128\n",
    "num_clusters = 10\n",
    "latent_size = 10\n",
    "device = torch.device(\"cuda:0\" if torch.cuda.is_available() else \"cpu\")"
   ]
  },
  {
   "cell_type": "code",
   "execution_count": null,
   "id": "63248c47-dc0f-4d9d-bc60-a5727841217a",
   "metadata": {
    "id": "Llte4tVZVpmg"
   },
   "outputs": [],
   "source": [
    "trainset = torchvision.datasets.MNIST(\"./data/\", download=True, train=True, transform=transforms.ToTensor())\n",
    "testset = torchvision.datasets.MNIST(\"./data/\", download=True, train=False, transform=transforms.ToTensor())\n",
    "trainloader = DataLoader(trainset, batch_size=batch_size, shuffle=True)\n",
    "testloader = DataLoader(testset, batch_size=batch_size, shuffle=False)"
   ]
  },
  {
   "cell_type": "code",
   "execution_count": null,
   "id": "1bd1346c-1e29-4898-8f23-3ad00cca7070",
   "metadata": {
    "id": "7VppzGd6WTj_"
   },
   "outputs": [],
   "source": [
    "class Flatten(nn.Module):\n",
    "  def forward(self, x):\n",
    "    batch_size = x.shape[0]\n",
    "    return x.view(batch_size, -1)\n",
    "\n",
    "class Deflatten(nn.Module):\n",
    "  def __init__(self, k):\n",
    "    super(Deflatten, self).__init__()\n",
    "    self.k = k\n",
    "  \n",
    "  def forward(self, x):\n",
    "    s = x.size()\n",
    "    feature_size = int((s[1]//self.k)**.5)\n",
    "    return x.view(s[0], self.k, feature_size, feature_size)\n",
    "  \n",
    "class Kmeans(nn.Module):\n",
    "  def __init__(self, num_clusters, latent_size):\n",
    "    super(Kmeans, self).__init__()\n",
    "    device = torch.device(\"cuda:0\" if torch.cuda.is_available() else \"cpu\")\n",
    "    self.num_clusters = num_clusters\n",
    "    self.centroids = nn.Parameter(torch.rand((self.num_clusters, latent_size)).to(device))\n",
    "\n",
    "  def argminl2distance(self, a, b):\n",
    "    return torch.argmin(torch.sum((a-b)**2, dim=1), dim=0)\n",
    "\n",
    "  def forward(self, x):\n",
    "    y_assign = []\n",
    "    for m in range(x.size(0)):\n",
    "      h = x[m].expand(self.num_clusters, -1)\n",
    "      assign = self.argminl2distance(h, self.centroids)\n",
    "      y_assign.append(assign.item())\n",
    "    return y_assign, self.centroids[y_assign]\n",
    "\n",
    "class Encoder(nn.Module):\n",
    "  def __init__(self, latent_size):\n",
    "    super(Encoder, self).__init__()\n",
    "    k = 16\n",
    "    self.encoder = nn.Sequential(\n",
    "        nn.Conv2d(1, k, 3, stride=2), nn.ReLU(),\n",
    "        nn.Conv2d(k, 2*k, 3, stride=2), nn.ReLU(),\n",
    "        nn.Conv2d(2*k, 4*k, 3, stride=1), nn.ReLU(),\n",
    "        Flatten(),\n",
    "        nn.Linear(1024, latent_size), nn.ReLU())\n",
    "  \n",
    "  def forward(self, x):\n",
    "    return self.encoder(x)\n",
    "\n",
    "class Decoder(nn.Module):\n",
    "  def __init__(self, latent_size):\n",
    "    super(Decoder, self).__init__()\n",
    "    k = 16\n",
    "    self.decoder = nn.Sequential(\n",
    "        nn.Linear(latent_size, 1024), nn.ReLU(),\n",
    "        Deflatten(4*k),\n",
    "        nn.ConvTranspose2d(4*k, 2*k, 3, stride=1), nn.ReLU(),\n",
    "        nn.ConvTranspose2d(2*k, k, 3, stride=2), nn.ReLU(),\n",
    "        nn.ConvTranspose2d(k, 1, 3, stride=2, output_padding=1), nn.Sigmoid())\n",
    "  \n",
    "  def forward(self, x):\n",
    "    return self.decoder(x)"
   ]
  },
  {
   "cell_type": "code",
   "execution_count": null,
   "id": "86c2f442-4264-4760-b0b5-8cf8a8a7c6ee",
   "metadata": {
    "id": "H1dIW4s1Zk9n"
   },
   "outputs": [],
   "source": [
    "def cluster_acc(y_true, y_pred):\n",
    "  y_true = np.array(y_true)\n",
    "  y_pred = np.array(y_pred)\n",
    "  D = max(y_pred.max(), y_true.max()) + 1\n",
    "  w = np.zeros((D, D), dtype=np.int64)\n",
    "  for i in range(y_pred.size):\n",
    "    w[y_pred[i], y_true[i]] += 1\n",
    "  ind = linear_assignment(w.max() - w)\n",
    "  return sum([w[i, j] for i, j in zip(ind[0], ind[1])]) * 1.0 / y_pred.size"
   ]
  },
  {
   "cell_type": "code",
   "execution_count": null,
   "id": "1e4b34ff-9d18-4f21-b943-9315dda8fc02",
   "metadata": {
    "id": "PNmCQewSheuI"
   },
   "outputs": [],
   "source": [
    "def evaluation(testloader, encoder, kmeans, device):\n",
    "  predictions = []\n",
    "  actual = []\n",
    "\n",
    "  with torch.no_grad():\n",
    "    for images, labels in testloader:\n",
    "      inputs = images.to(device)\n",
    "      labels = labels.to(device)\n",
    "      latent_var = encoder(inputs)\n",
    "      y_pred, _ = kmeans(latent_var)\n",
    "\n",
    "      predictions += y_pred\n",
    "      actual += labels.cpu().tolist()\n",
    "  \n",
    "  return cluster_acc(actual, predictions)"
   ]
  },
  {
   "cell_type": "code",
   "execution_count": null,
   "id": "96796d00-120b-4ff9-92df-0d67ee26b764",
   "metadata": {
    "id": "QiZtL-bukVYg"
   },
   "outputs": [],
   "source": [
    "encoder = Encoder(latent_size).to(device)\n",
    "decoder = Decoder(latent_size).to(device)\n",
    "kmeans = Kmeans(num_clusters, latent_size).to(device)\n",
    "criterion1 = torch.nn.MSELoss()\n",
    "criterion2 = torch.nn.MSELoss()\n",
    "optimizer = torch.optim.Adam(list(encoder.parameters()) + list(decoder.parameters()) + list(kmeans.parameters()), lr=1e-3)"
   ]
  },
  {
   "cell_type": "code",
   "execution_count": null,
   "id": "71d62e43-ff69-474b-84eb-c31777d8b75d",
   "metadata": {
    "id": "CRnwx9yFk-Bx"
   },
   "outputs": [],
   "source": [
    "T1 = 50\n",
    "T2 = 200\n",
    "lam = 1e-3\n",
    "ls = 0.05\n",
    "MODEL_SAVE_PATH = \"/content/drive/MyDrive/models/torch_basic_study\""
   ]
  },
  {
   "cell_type": "code",
   "execution_count": null,
   "id": "1f46f2e6-98df-4564-844b-7eb7aff158af",
   "metadata": {
    "colab": {
     "base_uri": "https://localhost:8080/",
     "height": 505
    },
    "id": "1BlUFtcQlc_5",
    "outputId": "0d8312e6-c87f-4bb3-b0c9-2f1e771d8525"
   },
   "outputs": [
    {
     "name": "stdout",
     "output_type": "stream",
     "text": [
      "[0] Train loss: 0.0847, Test Accuracy: 0.114\n",
      "[10] Train loss: 0.0273, Test Accuracy: 0.201\n",
      "[20] Train loss: 0.0248, Test Accuracy: 0.374\n",
      "[30] Train loss: 0.0238, Test Accuracy: 0.552\n",
      "[40] Train loss: 0.0232, Test Accuracy: 0.603\n",
      "[50] Train loss: 0.0227, Test Accuracy: 0.652\n",
      "[60] Train loss: 0.0225, Test Accuracy: 0.679\n"
     ]
    },
    {
     "ename": "KeyboardInterrupt",
     "evalue": "ignored",
     "output_type": "error",
     "traceback": [
      "\u001b[0;31m---------------------------------------------------------------------------\u001b[0m",
      "\u001b[0;31mKeyboardInterrupt\u001b[0m                         Traceback (most recent call last)",
      "\u001b[0;32m<ipython-input-10-b739a58d1d10>\u001b[0m in \u001b[0;36m<module>\u001b[0;34m()\u001b[0m\n\u001b[1;32m     12\u001b[0m     \u001b[0moptimizer\u001b[0m\u001b[0;34m.\u001b[0m\u001b[0mzero_grad\u001b[0m\u001b[0;34m(\u001b[0m\u001b[0;34m)\u001b[0m\u001b[0;34m\u001b[0m\u001b[0;34m\u001b[0m\u001b[0m\n\u001b[1;32m     13\u001b[0m     \u001b[0mlatent_var\u001b[0m \u001b[0;34m=\u001b[0m \u001b[0mencoder\u001b[0m\u001b[0;34m(\u001b[0m\u001b[0minputs\u001b[0m\u001b[0;34m)\u001b[0m\u001b[0;34m\u001b[0m\u001b[0;34m\u001b[0m\u001b[0m\n\u001b[0;32m---> 14\u001b[0;31m     \u001b[0m_\u001b[0m\u001b[0;34m,\u001b[0m \u001b[0mcentroids\u001b[0m \u001b[0;34m=\u001b[0m \u001b[0mkmeans\u001b[0m\u001b[0;34m(\u001b[0m\u001b[0mlatent_var\u001b[0m\u001b[0;34m.\u001b[0m\u001b[0mdetach\u001b[0m\u001b[0;34m(\u001b[0m\u001b[0;34m)\u001b[0m\u001b[0;34m)\u001b[0m\u001b[0;34m\u001b[0m\u001b[0;34m\u001b[0m\u001b[0m\n\u001b[0m\u001b[1;32m     15\u001b[0m     \u001b[0moutputs\u001b[0m \u001b[0;34m=\u001b[0m \u001b[0mdecoder\u001b[0m\u001b[0;34m(\u001b[0m\u001b[0mlatent_var\u001b[0m\u001b[0;34m)\u001b[0m\u001b[0;34m\u001b[0m\u001b[0;34m\u001b[0m\u001b[0m\n\u001b[1;32m     16\u001b[0m \u001b[0;34m\u001b[0m\u001b[0m\n",
      "\u001b[0;32m/usr/local/lib/python3.7/dist-packages/torch/nn/modules/module.py\u001b[0m in \u001b[0;36m_call_impl\u001b[0;34m(self, *input, **kwargs)\u001b[0m\n\u001b[1;32m   1100\u001b[0m         if not (self._backward_hooks or self._forward_hooks or self._forward_pre_hooks or _global_backward_hooks\n\u001b[1;32m   1101\u001b[0m                 or _global_forward_hooks or _global_forward_pre_hooks):\n\u001b[0;32m-> 1102\u001b[0;31m             \u001b[0;32mreturn\u001b[0m \u001b[0mforward_call\u001b[0m\u001b[0;34m(\u001b[0m\u001b[0;34m*\u001b[0m\u001b[0minput\u001b[0m\u001b[0;34m,\u001b[0m \u001b[0;34m**\u001b[0m\u001b[0mkwargs\u001b[0m\u001b[0;34m)\u001b[0m\u001b[0;34m\u001b[0m\u001b[0;34m\u001b[0m\u001b[0m\n\u001b[0m\u001b[1;32m   1103\u001b[0m         \u001b[0;31m# Do not call functions when jit is used\u001b[0m\u001b[0;34m\u001b[0m\u001b[0;34m\u001b[0m\u001b[0;34m\u001b[0m\u001b[0m\n\u001b[1;32m   1104\u001b[0m         \u001b[0mfull_backward_hooks\u001b[0m\u001b[0;34m,\u001b[0m \u001b[0mnon_full_backward_hooks\u001b[0m \u001b[0;34m=\u001b[0m \u001b[0;34m[\u001b[0m\u001b[0;34m]\u001b[0m\u001b[0;34m,\u001b[0m \u001b[0;34m[\u001b[0m\u001b[0;34m]\u001b[0m\u001b[0;34m\u001b[0m\u001b[0;34m\u001b[0m\u001b[0m\n",
      "\u001b[0;32m<ipython-input-5-d0c3f51f26cb>\u001b[0m in \u001b[0;36mforward\u001b[0;34m(self, x)\u001b[0m\n\u001b[1;32m     27\u001b[0m     \u001b[0my_assign\u001b[0m \u001b[0;34m=\u001b[0m \u001b[0;34m[\u001b[0m\u001b[0;34m]\u001b[0m\u001b[0;34m\u001b[0m\u001b[0;34m\u001b[0m\u001b[0m\n\u001b[1;32m     28\u001b[0m     \u001b[0;32mfor\u001b[0m \u001b[0mm\u001b[0m \u001b[0;32min\u001b[0m \u001b[0mrange\u001b[0m\u001b[0;34m(\u001b[0m\u001b[0mx\u001b[0m\u001b[0;34m.\u001b[0m\u001b[0msize\u001b[0m\u001b[0;34m(\u001b[0m\u001b[0;36m0\u001b[0m\u001b[0;34m)\u001b[0m\u001b[0;34m)\u001b[0m\u001b[0;34m:\u001b[0m\u001b[0;34m\u001b[0m\u001b[0;34m\u001b[0m\u001b[0m\n\u001b[0;32m---> 29\u001b[0;31m       \u001b[0mh\u001b[0m \u001b[0;34m=\u001b[0m \u001b[0mx\u001b[0m\u001b[0;34m[\u001b[0m\u001b[0mm\u001b[0m\u001b[0;34m]\u001b[0m\u001b[0;34m.\u001b[0m\u001b[0mexpand\u001b[0m\u001b[0;34m(\u001b[0m\u001b[0mself\u001b[0m\u001b[0;34m.\u001b[0m\u001b[0mnum_clusters\u001b[0m\u001b[0;34m,\u001b[0m \u001b[0;34m-\u001b[0m\u001b[0;36m1\u001b[0m\u001b[0;34m)\u001b[0m\u001b[0;34m\u001b[0m\u001b[0;34m\u001b[0m\u001b[0m\n\u001b[0m\u001b[1;32m     30\u001b[0m       \u001b[0massign\u001b[0m \u001b[0;34m=\u001b[0m \u001b[0mself\u001b[0m\u001b[0;34m.\u001b[0m\u001b[0margminl2distance\u001b[0m\u001b[0;34m(\u001b[0m\u001b[0mh\u001b[0m\u001b[0;34m,\u001b[0m \u001b[0mself\u001b[0m\u001b[0;34m.\u001b[0m\u001b[0mcentroids\u001b[0m\u001b[0;34m)\u001b[0m\u001b[0;34m\u001b[0m\u001b[0;34m\u001b[0m\u001b[0m\n\u001b[1;32m     31\u001b[0m       \u001b[0my_assign\u001b[0m\u001b[0;34m.\u001b[0m\u001b[0mappend\u001b[0m\u001b[0;34m(\u001b[0m\u001b[0massign\u001b[0m\u001b[0;34m.\u001b[0m\u001b[0mitem\u001b[0m\u001b[0;34m(\u001b[0m\u001b[0;34m)\u001b[0m\u001b[0;34m)\u001b[0m\u001b[0;34m\u001b[0m\u001b[0;34m\u001b[0m\u001b[0m\n",
      "\u001b[0;31mKeyboardInterrupt\u001b[0m: "
     ]
    }
   ],
   "source": [
    "for ep in range(300):\n",
    "  if (ep > T1) and (ep < T2):\n",
    "    alpha = lam * (ep - T1) / (T2 - T1)\n",
    "  elif ep >= T2:\n",
    "    alpha = lam\n",
    "  else:\n",
    "    alpha = lam/(T2 - T1)\n",
    "  \n",
    "  running_loss = 0.0\n",
    "  for images, _ in trainloader:\n",
    "    inputs = images.to(device)\n",
    "    optimizer.zero_grad()\n",
    "    latent_var = encoder(inputs)\n",
    "    _, centroids = kmeans(latent_var.detach())\n",
    "    outputs = decoder(latent_var)\n",
    "\n",
    "    l_rec = criterion1(inputs, outputs)\n",
    "    l_clt = criterion2(latent_var, centroids)\n",
    "    loss = l_rec + alpha * l_clt\n",
    "    loss.backward()\n",
    "    optimizer.step()\n",
    "    running_loss += loss.item()\n",
    "  \n",
    "  avg_loss = running_loss / len(trainloader)\n",
    "\n",
    "  if ep % 10 == 0:\n",
    "    testacc = evaluation(testloader, encoder, kmeans, device)\n",
    "    print(\"[%d] Train loss: %.4f, Test Accuracy: %.3f\" % (ep, avg_loss, testacc))\n",
    "\n",
    "  if avg_loss < ls:\n",
    "    ls = avg_loss\n",
    "    torch.save(encoder.state_dict(), f\"{MODEL_SAVE_PATH}/dkm_encoder.pt\")\n",
    "    torch.save(decoder.state_dict(), f\"{MODEL_SAVE_PATH}/dkm_decoder.pt\")\n",
    "    torch.save(kmeans.state_dict(), f\"{MODEL_SAVE_PATH}/dkm_kmeans.pt\")"
   ]
  },
  {
   "cell_type": "code",
   "execution_count": null,
   "id": "dce45a35-0337-4827-b713-372f0620998a",
   "metadata": {
    "colab": {
     "base_uri": "https://localhost:8080/"
    },
    "id": "cpWcvbBfmRsi",
    "outputId": "e33c6b9c-fa40-4f45-b6ac-7d2f0ee9aa1a"
   },
   "outputs": [
    {
     "name": "stdout",
     "output_type": "stream",
     "text": [
      "0.6864\n"
     ]
    }
   ],
   "source": [
    "encoder.load_state_dict(torch.load(f\"{MODEL_SAVE_PATH}/dkm_encoder.pt\"))\n",
    "decoder.load_state_dict(torch.load(f\"{MODEL_SAVE_PATH}/dkm_decoder.pt\"))\n",
    "kmeans.load_state_dict(torch.load(f\"{MODEL_SAVE_PATH}/dkm_kmeans.pt\"))\n",
    "\n",
    "predictions = []\n",
    "actual = []\n",
    "latent_features = []\n",
    "with torch.no_grad():\n",
    "  for images, labels in testloader:\n",
    "    inputs = images.to(device)\n",
    "    labels = labels.to(device)\n",
    "    latent_var = encoder(inputs)\n",
    "    y_pred, _ = kmeans(latent_var)\n",
    "\n",
    "    predictions += y_pred\n",
    "    latent_features += latent_var.cpu().tolist()\n",
    "    actual += labels.cpu().tolist()\n",
    "print(cluster_acc(actual, predictions))"
   ]
  }
 ],
 "metadata": {
  "kernelspec": {
   "display_name": "Python 3 (ipykernel)",
   "language": "python",
   "name": "python3"
  },
  "language_info": {
   "codemirror_mode": {
    "name": "ipython",
    "version": 3
   },
   "file_extension": ".py",
   "mimetype": "text/x-python",
   "name": "python",
   "nbconvert_exporter": "python",
   "pygments_lexer": "ipython3",
   "version": "3.10.7"
  }
 },
 "nbformat": 4,
 "nbformat_minor": 5
}
